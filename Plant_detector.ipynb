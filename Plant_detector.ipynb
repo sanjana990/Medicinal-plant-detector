{
 "cells": [
  {
   "cell_type": "markdown",
   "metadata": {
    "id": "3DR-eO17geWu"
   },
   "source": [
    "# Convolutional Neural Network"
   ]
  },
  {
   "cell_type": "markdown",
   "metadata": {
    "id": "EMefrVPCg-60"
   },
   "source": [
    "### Importing the libraries"
   ]
  },
  {
   "cell_type": "code",
   "execution_count": 67,
   "metadata": {
    "id": "7_IwnnXLrC6N"
   },
   "outputs": [],
   "source": [
    "import tensorflow as tf\n",
    "from keras.preprocessing.image import ImageDataGenerator"
   ]
  },
  {
   "cell_type": "markdown",
   "metadata": {
    "id": "oxQxCBWyoGPE"
   },
   "source": [
    "## Part 1 - Data Preprocessing"
   ]
  },
  {
   "cell_type": "markdown",
   "metadata": {
    "id": "MvE-heJNo3GG"
   },
   "source": [
    "### Preprocessing the Training set"
   ]
  },
  {
   "cell_type": "code",
   "execution_count": 68,
   "metadata": {
    "id": "ckmWl-pAtWHj"
   },
   "outputs": [
    {
     "name": "stdout",
     "output_type": "stream",
     "text": [
      "Found 52 images belonging to 4 classes.\n"
     ]
    }
   ],
   "source": [
    "train_datagen = ImageDataGenerator(rescale=1./255,\n",
    "                                   shear_range=0.2,\n",
    "                                   zoom_range=0.2,\n",
    "                                   horizontal_flip=True)\n",
    "training_set = train_datagen.flow_from_directory('Dataset/train',\n",
    "                                                 target_size=(128, 128),\n",
    "                                                 batch_size=32,\n",
    "                                                 class_mode='categorical')  # Use 'categorical' for multiple classes\n"
   ]
  },
  {
   "cell_type": "markdown",
   "metadata": {
    "id": "mrCMmGw9pHys"
   },
   "source": [
    "### Preprocessing the Test set"
   ]
  },
  {
   "cell_type": "code",
   "execution_count": 69,
   "metadata": {
    "id": "5cAKkWClveFj"
   },
   "outputs": [
    {
     "name": "stdout",
     "output_type": "stream",
     "text": [
      "Found 12 images belonging to 4 classes.\n"
     ]
    }
   ],
   "source": [
    "test_datagen = ImageDataGenerator(rescale=1./255)\n",
    "test_set = test_datagen.flow_from_directory('Dataset/test',\n",
    "                                            target_size=(128, 128),\n",
    "                                            batch_size=34,\n",
    "                                            class_mode='categorical')  # Use 'categorical' for multiple classes"
   ]
  },
  {
   "cell_type": "markdown",
   "metadata": {
    "id": "af8O4l90gk7B"
   },
   "source": [
    "## Part 2 - Building the CNN"
   ]
  },
  {
   "cell_type": "markdown",
   "metadata": {
    "id": "ces1gXY2lmoX"
   },
   "source": [
    "### Initialising the CNN"
   ]
  },
  {
   "cell_type": "code",
   "execution_count": 70,
   "metadata": {
    "id": "0sgV7CaFkoc3"
   },
   "outputs": [],
   "source": [
    "cnn = tf.keras.models.Sequential()"
   ]
  },
  {
   "cell_type": "markdown",
   "metadata": {
    "id": "u5YJj_XMl5LF"
   },
   "source": [
    "### Step 1 - Convolution"
   ]
  },
  {
   "cell_type": "code",
   "execution_count": 71,
   "metadata": {
    "id": "_smRLKQkkpTh"
   },
   "outputs": [],
   "source": [
    "cnn.add(tf.keras.layers.Conv2D(filters=50, kernel_size=3, activation='relu', input_shape=[128, 128, 3]))"
   ]
  },
  {
   "cell_type": "markdown",
   "metadata": {
    "id": "tf87FpvxmNOJ"
   },
   "source": [
    "### Step 2 - Pooling"
   ]
  },
  {
   "cell_type": "code",
   "execution_count": 72,
   "metadata": {
    "id": "2l6qq3WOk-qv"
   },
   "outputs": [],
   "source": [
    "cnn.add(tf.keras.layers.MaxPool2D(pool_size=2, strides=2))"
   ]
  },
  {
   "cell_type": "markdown",
   "metadata": {
    "id": "xaTOgD8rm4mU"
   },
   "source": [
    "### Adding a second convolutional layer"
   ]
  },
  {
   "cell_type": "code",
   "execution_count": 73,
   "metadata": {
    "id": "wRiJVy_-lIr0"
   },
   "outputs": [],
   "source": [
    "cnn.add(tf.keras.layers.Conv2D(filters=60, kernel_size=3, activation='relu'))\n",
    "cnn.add(tf.keras.layers.MaxPool2D(pool_size=2, strides=2))"
   ]
  },
  {
   "cell_type": "markdown",
   "metadata": {
    "id": "tmiEuvTunKfk"
   },
   "source": [
    "### Step 3 - Flattening"
   ]
  },
  {
   "cell_type": "code",
   "execution_count": 74,
   "metadata": {
    "id": "Tr4vWor0mCCJ"
   },
   "outputs": [],
   "source": [
    "cnn.add(tf.keras.layers.Flatten())"
   ]
  },
  {
   "cell_type": "markdown",
   "metadata": {
    "id": "dAoSECOm203v"
   },
   "source": [
    "### Step 4 - Full Connection"
   ]
  },
  {
   "cell_type": "code",
   "execution_count": 75,
   "metadata": {
    "id": "c7SLL-BKmpQ_"
   },
   "outputs": [],
   "source": [
    "cnn.add(tf.keras.layers.Dense(units=128, activation='relu'))"
   ]
  },
  {
   "cell_type": "code",
   "execution_count": 76,
   "metadata": {},
   "outputs": [],
   "source": [
    "#cnn.add(tf.keras.layers.Dense(units=64, activation='relu'))"
   ]
  },
  {
   "cell_type": "code",
   "execution_count": 77,
   "metadata": {},
   "outputs": [],
   "source": [
    "#cnn.add(tf.keras.layers.Dense(units=90, activation='relu'))"
   ]
  },
  {
   "cell_type": "markdown",
   "metadata": {
    "id": "yTldFvbX28Na"
   },
   "source": [
    "### Step 5 - Output Layer"
   ]
  },
  {
   "cell_type": "code",
   "execution_count": 78,
   "metadata": {
    "id": "5Gws5EmHm1-J"
   },
   "outputs": [],
   "source": [
    "num_plant_classes = 4  # Change this to the number of plant classes\n",
    "cnn.add(tf.keras.layers.Dense(units=num_plant_classes, activation='softmax'))"
   ]
  },
  {
   "cell_type": "markdown",
   "metadata": {
    "id": "D6XkI90snSDl"
   },
   "source": [
    "## Part 3 - Training the CNN"
   ]
  },
  {
   "cell_type": "markdown",
   "metadata": {
    "id": "vfrFQACEnc6i"
   },
   "source": [
    "### Compiling the CNN"
   ]
  },
  {
   "cell_type": "code",
   "execution_count": 79,
   "metadata": {},
   "outputs": [],
   "source": [
    "from keras.optimizers import Adam  \n",
    "\n",
    "learning_rate = 0.001  \n",
    "optimizer = Adam(learning_rate=learning_rate)"
   ]
  },
  {
   "cell_type": "code",
   "execution_count": 80,
   "metadata": {
    "id": "Q9Qu3x80nN-v"
   },
   "outputs": [],
   "source": [
    "cnn.compile(optimizer = optimizer, loss = 'categorical_crossentropy', metrics = ['accuracy'])"
   ]
  },
  {
   "cell_type": "markdown",
   "metadata": {
    "id": "ehS-v3MIpX2h"
   },
   "source": [
    "### Training the CNN on the Training set and evaluating it on the Test set"
   ]
  },
  {
   "cell_type": "code",
   "execution_count": 81,
   "metadata": {
    "id": "Ae1y6J71nZjR"
   },
   "outputs": [
    {
     "name": "stdout",
     "output_type": "stream",
     "text": [
      "Epoch 1/25\n",
      "2/2 [==============================] - 2s 812ms/step - loss: 2.3857 - accuracy: 0.2500 - val_loss: 7.0378 - val_accuracy: 0.1667\n",
      "Epoch 2/25\n",
      "2/2 [==============================] - 1s 735ms/step - loss: 4.0777 - accuracy: 0.2500 - val_loss: 1.5305 - val_accuracy: 0.2500\n",
      "Epoch 3/25\n",
      "2/2 [==============================] - 1s 450ms/step - loss: 1.6888 - accuracy: 0.2115 - val_loss: 1.4105 - val_accuracy: 0.2500\n",
      "Epoch 4/25\n",
      "2/2 [==============================] - 1s 586ms/step - loss: 1.3960 - accuracy: 0.3462 - val_loss: 1.3367 - val_accuracy: 0.2500\n",
      "Epoch 5/25\n",
      "2/2 [==============================] - 1s 628ms/step - loss: 1.3060 - accuracy: 0.5000 - val_loss: 1.3006 - val_accuracy: 0.3333\n",
      "Epoch 6/25\n",
      "2/2 [==============================] - 1s 453ms/step - loss: 1.2662 - accuracy: 0.3462 - val_loss: 1.2303 - val_accuracy: 0.3333\n",
      "Epoch 7/25\n",
      "2/2 [==============================] - 1s 721ms/step - loss: 1.2833 - accuracy: 0.4038 - val_loss: 1.1654 - val_accuracy: 0.5000\n",
      "Epoch 8/25\n",
      "2/2 [==============================] - 1s 445ms/step - loss: 1.1166 - accuracy: 0.5769 - val_loss: 1.0964 - val_accuracy: 0.5000\n",
      "Epoch 9/25\n",
      "2/2 [==============================] - 1s 534ms/step - loss: 1.1195 - accuracy: 0.4231 - val_loss: 1.1486 - val_accuracy: 0.4167\n",
      "Epoch 10/25\n",
      "2/2 [==============================] - 1s 707ms/step - loss: 1.2466 - accuracy: 0.4231 - val_loss: 1.3459 - val_accuracy: 0.2500\n",
      "Epoch 11/25\n",
      "2/2 [==============================] - 1s 798ms/step - loss: 0.9923 - accuracy: 0.5962 - val_loss: 1.0953 - val_accuracy: 0.5000\n",
      "Epoch 12/25\n",
      "2/2 [==============================] - 1s 460ms/step - loss: 1.0133 - accuracy: 0.5962 - val_loss: 1.0913 - val_accuracy: 0.6667\n",
      "Epoch 13/25\n",
      "2/2 [==============================] - 1s 511ms/step - loss: 0.9367 - accuracy: 0.6731 - val_loss: 1.3798 - val_accuracy: 0.4167\n",
      "Epoch 14/25\n",
      "2/2 [==============================] - 1s 502ms/step - loss: 0.9283 - accuracy: 0.6538 - val_loss: 1.0111 - val_accuracy: 0.7500\n",
      "Epoch 15/25\n",
      "2/2 [==============================] - 1s 783ms/step - loss: 0.9158 - accuracy: 0.7308 - val_loss: 0.9872 - val_accuracy: 0.8333\n",
      "Epoch 16/25\n",
      "2/2 [==============================] - 1s 448ms/step - loss: 0.7542 - accuracy: 0.8462 - val_loss: 1.0250 - val_accuracy: 0.5000\n",
      "Epoch 17/25\n",
      "2/2 [==============================] - 1s 788ms/step - loss: 0.7235 - accuracy: 0.7115 - val_loss: 1.1316 - val_accuracy: 0.5000\n",
      "Epoch 18/25\n",
      "2/2 [==============================] - 1s 463ms/step - loss: 0.7123 - accuracy: 0.7308 - val_loss: 0.8806 - val_accuracy: 0.4167\n",
      "Epoch 19/25\n",
      "2/2 [==============================] - 1s 782ms/step - loss: 0.5666 - accuracy: 0.8269 - val_loss: 0.8674 - val_accuracy: 0.8333\n",
      "Epoch 20/25\n",
      "2/2 [==============================] - 1s 454ms/step - loss: 0.5732 - accuracy: 0.8462 - val_loss: 0.8267 - val_accuracy: 0.7500\n",
      "Epoch 21/25\n",
      "2/2 [==============================] - 1s 784ms/step - loss: 0.4797 - accuracy: 0.8846 - val_loss: 0.8208 - val_accuracy: 0.4167\n",
      "Epoch 22/25\n",
      "2/2 [==============================] - 1s 761ms/step - loss: 0.3996 - accuracy: 0.8654 - val_loss: 0.8191 - val_accuracy: 0.6667\n",
      "Epoch 23/25\n",
      "2/2 [==============================] - 1s 478ms/step - loss: 0.3670 - accuracy: 0.9038 - val_loss: 0.7991 - val_accuracy: 0.5833\n",
      "Epoch 24/25\n",
      "2/2 [==============================] - 1s 755ms/step - loss: 0.3000 - accuracy: 0.9038 - val_loss: 0.8133 - val_accuracy: 0.7500\n",
      "Epoch 25/25\n",
      "2/2 [==============================] - 1s 768ms/step - loss: 0.2574 - accuracy: 0.9615 - val_loss: 0.7113 - val_accuracy: 0.8333\n"
     ]
    },
    {
     "data": {
      "text/plain": [
       "<keras.src.callbacks.History at 0x1799d80bc90>"
      ]
     },
     "execution_count": 81,
     "metadata": {},
     "output_type": "execute_result"
    }
   ],
   "source": [
    "cnn.fit(x = training_set, validation_data = test_set, epochs = 25)"
   ]
  },
  {
   "cell_type": "markdown",
   "metadata": {
    "id": "U3PZasO0006Z"
   },
   "source": [
    "## Part 4 - Making a single prediction"
   ]
  },
  {
   "cell_type": "code",
   "execution_count": 96,
   "metadata": {
    "id": "V-j3B28xwX7O"
   },
   "outputs": [
    {
     "name": "stdout",
     "output_type": "stream",
     "text": [
      "1/1 [==============================] - 0s 35ms/step\n",
      "The predicted class is: aloevara\n"
     ]
    }
   ],
   "source": [
    "import numpy as np\n",
    "from keras.preprocessing import image\n",
    "\n",
    "# Loading an image you want to classify\n",
    "test_image = image.load_img('Dataset/single_prediction/plant_alo.jpg', target_size=(128, 128))\n",
    "\n",
    "test_image = image.img_to_array(test_image)\n",
    "\n",
    "test_image = np.expand_dims(test_image, axis=0)\n",
    "\n",
    "test_image = test_image / 255.0\n",
    "\n",
    "result = cnn.predict(test_image)\n",
    "\n",
    "plant_classes = training_set.class_indices\n",
    "\n",
    "predicted_class = list(plant_classes.keys())[np.argmax(result)]\n",
    "\n",
    "print(\"The predicted class is:\", predicted_class)"
   ]
  },
  {
   "cell_type": "code",
   "execution_count": 92,
   "metadata": {},
   "outputs": [],
   "source": [
    "cnn.save('plant_model.h5')"
   ]
  },
  {
   "cell_type": "markdown",
   "metadata": {},
   "source": [
    "model.save('plant_recognition.h5')"
   ]
  },
  {
   "cell_type": "code",
   "execution_count": 87,
   "metadata": {},
   "outputs": [],
   "source": [
    "from tensorflow.keras.models import load_model\n",
    "\n",
    "loaded_model = load_model('plant_model.h5')\n"
   ]
  },
  {
   "cell_type": "code",
   "execution_count": 86,
   "metadata": {},
   "outputs": [
    {
     "data": {
      "text/plain": [
       "'C:\\\\Users\\\\shash\\\\Downloads\\\\imagedataset'"
      ]
     },
     "execution_count": 86,
     "metadata": {},
     "output_type": "execute_result"
    }
   ],
   "source": [
    "pwd"
   ]
  },
  {
   "cell_type": "code",
   "execution_count": 88,
   "metadata": {},
   "outputs": [
    {
     "name": "stdout",
     "output_type": "stream",
     "text": [
      "Model: \"sequential_5\"\n",
      "_________________________________________________________________\n",
      " Layer (type)                Output Shape              Param #   \n",
      "=================================================================\n",
      " conv2d_8 (Conv2D)           (None, 126, 126, 50)      1400      \n",
      "                                                                 \n",
      " max_pooling2d_8 (MaxPoolin  (None, 63, 63, 50)        0         \n",
      " g2D)                                                            \n",
      "                                                                 \n",
      " conv2d_9 (Conv2D)           (None, 61, 61, 60)        27060     \n",
      "                                                                 \n",
      " max_pooling2d_9 (MaxPoolin  (None, 30, 30, 60)        0         \n",
      " g2D)                                                            \n",
      "                                                                 \n",
      " flatten_4 (Flatten)         (None, 54000)             0         \n",
      "                                                                 \n",
      " dense_12 (Dense)            (None, 128)               6912128   \n",
      "                                                                 \n",
      " dense_13 (Dense)            (None, 4)                 516       \n",
      "                                                                 \n",
      "=================================================================\n",
      "Total params: 6941104 (26.48 MB)\n",
      "Trainable params: 6941104 (26.48 MB)\n",
      "Non-trainable params: 0 (0.00 Byte)\n",
      "_________________________________________________________________\n"
     ]
    }
   ],
   "source": [
    "loaded_model.summary()"
   ]
  },
  {
   "cell_type": "code",
   "execution_count": null,
   "metadata": {},
   "outputs": [],
   "source": []
  }
 ],
 "metadata": {
  "colab": {
   "provenance": []
  },
  "kernelspec": {
   "display_name": "Python 3 (ipykernel)",
   "language": "python",
   "name": "python3"
  },
  "language_info": {
   "codemirror_mode": {
    "name": "ipython",
    "version": 3
   },
   "file_extension": ".py",
   "mimetype": "text/x-python",
   "name": "python",
   "nbconvert_exporter": "python",
   "pygments_lexer": "ipython3",
   "version": "3.11.5"
  }
 },
 "nbformat": 4,
 "nbformat_minor": 1
}
